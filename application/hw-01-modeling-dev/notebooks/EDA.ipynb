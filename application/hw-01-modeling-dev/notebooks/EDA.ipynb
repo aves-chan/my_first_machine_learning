{
 "cells": [
  {
   "cell_type": "markdown",
   "id": "65eeb555-5e92-4d7e-8516-2c2a3445d351",
   "metadata": {},
   "source": [
    "# Data description"
   ]
  },
  {
   "cell_type": "markdown",
   "id": "889cbd09-5357-4892-ad2d-9a68e80203e2",
   "metadata": {},
   "source": [
    "## Resourses\n",
    "\n",
    "* [Dataset resourse](https://www.kaggle.com/datasets/nikitarom/planets-dataset)\n",
    "* [Full descriptions of data](https://www.kaggle.com/c/planet-understanding-the-amazon-from-space/data)\n",
    "\n",
    "\n",
    "## File formats\n",
    "\n",
    "* **test-jpg** - folder with jpeg tiles for test model and validate it\n",
    "  \n",
    "* **train-jpg** - folder with jpeg tiles for train model\n",
    "\n",
    "* **train_classes.csv** - a list of training file names and their labels, the labels are space-delimited\n",
    "\n",
    "* **sample_submission.csv** - correct format of submission, contains all the files in the test set. For more information about the submission file, please go to the Evaluation page\n",
    "\n",
    "\n",
    "\n",
    "Data are set of JPG chips for reference and practice (256x256 pixels, ~947.2m x 947.2m = 897187.84 m^2 = 89.7187 Hectares = 221.7 Acres). These chips were processed using the Planet visual product processor from tiff files and then saved as jpg chips. These chips are provided as a reference to the scene content.\n",
    "\n",
    "\n",
    "## Class Labels\n",
    "\n",
    "The class labels for this task were chosen in collaboration with Planet's Impact team and represent a reasonable subset of phenomena of interest in the Amazon basin. The labels can broadly be broken into three groups: **atmospheric conditions, common land cover/land use phenomena, and rare land cover/land use phenomena**. Each chip will have one and potentially more than one atmospheric label and zero or more common and rare labels. Chips that are labeled as cloudy should have no other labels, but there may be labeling errors.\n",
    "\n",
    "\n",
    "As discussed in the data collection portion of this document, the chip labels are inherently noisy due to the labeling process and ambiguity of features, and scenes may either omit class labels or have incorrect class labels. \n",
    "\n",
    "\n",
    "* **Cloud Cover Labels**: clear, partly cloudy, cloudy, and haze\n",
    "\n",
    "* **More Common Labels**:  rainforest, agriculture, rivers, towns/cities, and roads\n",
    "\n",
    "* **Primary Rain Forest**: The overwhelming majority of the data set is labeled as \"primary\", which is shorthand for primary rainforest, or what is known colloquially as virgin forest. Generally speaking, the \"primary\" label was used for any area that exhibited dense tree cover\n",
    "\n",
    "* **Habitation**: The habitation class label was used for chips that appeared to contain human homes or buildings. This includes anything from dense urban centers to rural villages along the banks of rivers. Small, single-dwelling habitations are often difficult to spot but usually appear as clumps of a few pixels that are bright white.\n",
    "\n",
    "* **Cultivation**: Shifting cultivation is a subset of agriculture that is very easy to see from space, and occurs in rural areas where individuals and families maintain farm plots for subsistence.\n",
    "\n",
    "* **Bare Ground**: Bare ground is a catch-all term used for naturally occuring tree free areas that aren't the result of human activity. Some of these areas occur naturally in the Amazon, while others may be the result from the source scenes containing small regions of biome much similar to the pantanal or cerrado.\n",
    "\n",
    "* **Slash and Burn**: Slash-and-burn agriculture can be considered to be a subset of the shifting cultivation label and is used for areas that demonstrate recent burn events.\n",
    "\n",
    "* **Selective Logging**: The selective logging label is used to cover the practice of selectively removing high value tree species from the rainforest (such as teak and mahogany). From space this appears as winding dirt roads adjacent to bare brown patches in otherwise primary rain forest.\n",
    "\n",
    "* **Blooming**: Blooming is a natural phenomenon found in the Amazon where particular species of flowering trees bloom, fruit, and flower at the same time to maximize the chances of cross pollination. These trees are quite large and these events can be seen from space.\n",
    "\n",
    "* **Conventional Mining**: There are a number of large conventional mines in the Amazon basin and the number is steadily growning. This label is used to classify large-scale legal mining operations.\n",
    "\n",
    "* **\"Artisinal\" Mining**: Artisinal mining is a catch-all term for small scale mining operations. Throughout the Amazon, especially at the foothills of the Andes, gold deposits lace the deep, clay soils. Artisanal miners, sometimes working illegally in land designated for conservation, slash through the forest and excavate deep pits near rivers. They pump a mud-water slurry into the river banks, blasting them away so that they can be processed further with mercury - which is used to separate out the gold. The denuded moonscape left behind takes centuries to recover.\n",
    "\n",
    "* **Blow Down**: Blow down, also called windthrow, is a naturally occurring phenomenon in the Amazon. Briefly, blow down events occur during microbursts where cold dry air from the Andes settles on top of warm moist air in the rainforest. The colder air punches a hole in the moist warm layer, and sinks down with incredible force and high speed (in excess of 100MPH). These high winds topple the larger rainforest trees, and the resulting open areas are visible from space. The open areas do not stay visible for along as plants in the understory rush in to take advantage of the sunlight.\n",
    "\n"
   ]
  },
  {
   "cell_type": "code",
   "execution_count": null,
   "id": "66bf08dd-8cd4-451a-b77a-1e22bf45ae9c",
   "metadata": {},
   "outputs": [],
   "source": [
    "%load_ext autoreload\n",
    "%autoreload 2"
   ]
  },
  {
   "cell_type": "code",
   "execution_count": null,
   "id": "d3d802c9-1dbb-4ceb-b23c-4d7642a19715",
   "metadata": {},
   "outputs": [],
   "source": [
    "from IPython.core.interactiveshell import InteractiveShell\n",
    "InteractiveShell.ast_node_interactivity = 'all'\n",
    "\n",
    "import warnings\n",
    "warnings.simplefilter('ignore')\n",
    "\n",
    "import gc\n",
    "\n",
    "from os import path\n",
    "import sys\n",
    "sys.path.append(path.abspath('..'))"
   ]
  },
  {
   "cell_type": "code",
   "execution_count": null,
   "id": "04605758-3bec-4f58-86e8-013ab7dc3d13",
   "metadata": {},
   "outputs": [],
   "source": [
    "import os\n",
    "import cv2\n",
    "import torch\n",
    "import pandas as pd\n",
    "from PIL import Image\n",
    "from pprint import pprint\n",
    "import albumentations as albu\n",
    "from albumentations.pytorch import ToTensorV2\n",
    "\n",
    "from src.lightning_module import PlanetsModule"
   ]
  },
  {
   "cell_type": "code",
   "execution_count": null,
   "id": "7448f632-a024-4eec-b292-16eac84ba7b8",
   "metadata": {},
   "outputs": [],
   "source": [
    "DATA_FOLDER = '../dataset/planet/planet/'\n",
    "!ls {DATA_FOLDER}"
   ]
  },
  {
   "cell_type": "code",
   "execution_count": null,
   "id": "aef3f926-4834-4719-9463-2ee09f956c7d",
   "metadata": {},
   "outputs": [],
   "source": [
    "df = pd.read_csv(os.path.join(DATA_FOLDER, 'train_classes.csv'))\n",
    "df.head()"
   ]
  },
  {
   "cell_type": "code",
   "execution_count": null,
   "id": "3681bbd5-40bf-430a-a771-520d05c9c1ae",
   "metadata": {},
   "outputs": [],
   "source": [
    "df.shape"
   ]
  },
  {
   "cell_type": "code",
   "execution_count": null,
   "id": "cd5e6154-c288-4450-b219-dc25ec7b234b",
   "metadata": {},
   "outputs": [],
   "source": [
    "total_tags = []\n",
    "for i in range(df.shape[0]):\n",
    "    for n in df['tags'][i].split(' '):\n",
    "        if not n in total_tags:\n",
    "            total_tags.append(n)\n",
    "total_tags"
   ]
  },
  {
   "cell_type": "code",
   "execution_count": null,
   "id": "9f4a09c7-519d-41fa-ae79-7cc09362b3b2",
   "metadata": {},
   "outputs": [],
   "source": [
    "new_df_dict = {\n",
    "    'Id': []\n",
    "}\n",
    "for tag in total_tags:\n",
    "    new_df_dict[tag] = []\n",
    "\n",
    "for i in range(df.shape[0]):\n",
    "    new_df_dict['Id'].append(df['image_name'][i])\n",
    "    for n in total_tags:\n",
    "        if n in df['tags'][i]:\n",
    "            new_df_dict[n].append(1)\n",
    "        else:\n",
    "            new_df_dict[n].append(0)\n",
    "\n",
    "new_df = df.from_dict(new_df_dict)\n",
    "new_df.head()"
   ]
  },
  {
   "cell_type": "code",
   "execution_count": null,
   "id": "e1904a83-cea3-48ec-afb0-1b9a3f106c4b",
   "metadata": {},
   "outputs": [],
   "source": [
    "new_df.shape"
   ]
  },
  {
   "cell_type": "code",
   "execution_count": null,
   "id": "8caf0189-990d-4b87-8103-3f9a858b313c",
   "metadata": {},
   "outputs": [],
   "source": [
    "len(total_tags)"
   ]
  },
  {
   "cell_type": "code",
   "execution_count": null,
   "id": "3bf71ab0-59e1-4d9e-816d-f9fbbe06c923",
   "metadata": {},
   "outputs": [],
   "source": [
    "new_df.to_csv(\n",
    "    os.path.join(DATA_FOLDER, 'df_train_ohe.csv'), \n",
    "    index=False\n",
    ")"
   ]
  },
  {
   "cell_type": "code",
   "execution_count": null,
   "id": "a061e4de-50cb-4189-b115-f77f384f242f",
   "metadata": {},
   "outputs": [],
   "source": []
  }
 ],
 "metadata": {
  "kernelspec": {
   "display_name": "hw-01",
   "language": "python",
   "name": "hw-01"
  },
  "language_info": {
   "codemirror_mode": {
    "name": "ipython",
    "version": 3
   },
   "file_extension": ".py",
   "mimetype": "text/x-python",
   "name": "python",
   "nbconvert_exporter": "python",
   "pygments_lexer": "ipython3",
   "version": "3.9.16"
  }
 },
 "nbformat": 4,
 "nbformat_minor": 5
}
