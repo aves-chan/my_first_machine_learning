{
 "cells": [
  {
   "cell_type": "markdown",
   "id": "1e76329a-e13b-4d94-a20e-4f427cbc39e3",
   "metadata": {},
   "source": [
    "# Convert model to onnx"
   ]
  },
  {
   "cell_type": "code",
   "execution_count": null,
   "id": "a1590159-42fe-4626-9c84-f2eab8531a42",
   "metadata": {},
   "outputs": [],
   "source": [
    "%load_ext autoreload\n",
    "%autoreload 2"
   ]
  },
  {
   "cell_type": "code",
   "execution_count": null,
   "id": "f2e7f4ce-072a-4625-aa90-860c9eb75448",
   "metadata": {},
   "outputs": [],
   "source": [
    "from IPython.core.interactiveshell import InteractiveShell\n",
    "InteractiveShell.ast_node_interactivity = 'all'\n",
    "\n",
    "import warnings\n",
    "warnings.simplefilter('ignore')\n",
    "\n",
    "import gc\n",
    "\n",
    "from os import path\n",
    "import sys\n",
    "sys.path.append(path.abspath('..'))"
   ]
  },
  {
   "cell_type": "code",
   "execution_count": null,
   "id": "4c5d3798-2266-4fcf-9bf8-195b71624228",
   "metadata": {},
   "outputs": [],
   "source": [
    "import onnxruntime as ort\n",
    "import onnx\n",
    "import numpy as np\n",
    "import torch\n",
    "from src.lightning_module import PlanetsModule"
   ]
  },
  {
   "cell_type": "code",
   "execution_count": null,
   "id": "ff763c00-e76d-4e57-bfc4-3c560d0014fe",
   "metadata": {},
   "outputs": [],
   "source": [
    "ONNX_MODEL_NAME = '../onnx_planet_model.onnx'\n",
    "DEVICE = 'cpu'\n",
    "BATCH_SIZE = 1"
   ]
  },
  {
   "cell_type": "code",
   "execution_count": null,
   "id": "cf5867ff-cb2d-43fb-9bcb-63d168f1ab49",
   "metadata": {},
   "outputs": [],
   "source": [
    "# Загружаем модель\n",
    "checkpoints_folder = '../experiments/experiment2/'\n",
    "# Берем какой-то чекпоинт из папки. Если нужен конкретный - можно явно указать путь\n",
    "checkpoint_name = os.path.join(checkpoints_folder, os.listdir(checkpoints_folder)[0]) \n",
    "module = PlanetsModule.load_from_checkpoint(checkpoint_name)\n",
    "\n",
    "module.eval()\n",
    "module.to(DEVICE)"
   ]
  },
  {
   "cell_type": "code",
   "execution_count": null,
   "id": "43437e04-9d2f-4e66-ba72-5d1e960cbb6f",
   "metadata": {},
   "outputs": [],
   "source": [
    "dummy_input = torch.rand(1, 3, 224, 224, device=DEVICE)\n",
    "torch.onnx.export(\n",
    "    module,\n",
    "    dummy_input,\n",
    "    ONNX_MODEL_NAME,\n",
    "    input_names=['input'],\n",
    "    output_names=['output'],\n",
    "    dynamic_axes = {'input': [0], 'output': [0]}, # динамический батч, но можно и статический\n",
    ")"
   ]
  },
  {
   "cell_type": "code",
   "execution_count": null,
   "id": "62857eac-d3a7-4f33-a4e5-1516a8be42e6",
   "metadata": {},
   "outputs": [],
   "source": [
    "# проверяем, что модель конвертнулась успешно\n",
    "onnx_model = onnx.load(ONNX_MODEL_NAME)\n",
    "onnx.checker.check_model(onnx_model)\n",
    "print(onnx.helper.printable_graph(onnx_model.graph))"
   ]
  },
  {
   "cell_type": "code",
   "execution_count": null,
   "id": "6ce275fc-0b3f-4a1f-bde9-f452c11e9d1d",
   "metadata": {},
   "outputs": [],
   "source": []
  },
  {
   "cell_type": "code",
   "execution_count": null,
   "id": "b4a802b0-ba8b-4d3c-809b-759af5d4320f",
   "metadata": {},
   "outputs": [],
   "source": []
  },
  {
   "cell_type": "code",
   "execution_count": null,
   "id": "405b7d2a-39da-4dbe-997b-63d99f81207c",
   "metadata": {},
   "outputs": [],
   "source": []
  }
 ],
 "metadata": {
  "kernelspec": {
   "display_name": "hw-01",
   "language": "python",
   "name": "hw-01"
  },
  "language_info": {
   "codemirror_mode": {
    "name": "ipython",
    "version": 3
   },
   "file_extension": ".py",
   "mimetype": "text/x-python",
   "name": "python",
   "nbconvert_exporter": "python",
   "pygments_lexer": "ipython3",
   "version": "3.9.16"
  }
 },
 "nbformat": 4,
 "nbformat_minor": 5
}
